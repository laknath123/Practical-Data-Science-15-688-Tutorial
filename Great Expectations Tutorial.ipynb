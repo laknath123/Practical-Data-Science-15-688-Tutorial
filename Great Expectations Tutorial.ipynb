{
 "cells": [
  {
   "cell_type": "code",
   "execution_count": null,
   "id": "1afb7ed3",
   "metadata": {},
   "outputs": [],
   "source": []
  },
  {
   "cell_type": "code",
   "execution_count": null,
   "id": "acf5c4af",
   "metadata": {},
   "outputs": [],
   "source": []
  },
  {
   "cell_type": "code",
   "execution_count": null,
   "id": "708a3991",
   "metadata": {},
   "outputs": [],
   "source": []
  },
  {
   "cell_type": "markdown",
   "id": "a4e12471",
   "metadata": {},
   "source": [
    "## Quick Intro to Setting Expectations"
   ]
  },
  {
   "cell_type": "markdown",
   "id": "465adc6d",
   "metadata": {},
   "source": [
    "For the purpose of this excercise lets imagine that the Titanic was able to divert its course and dodge the iceberg that stuck it in 1912 and succesfully completed its maiden voyage. In fact, lets assume that the RMS titanic took many voyages between Europe and the UK, and that a team of data engineers and data scientists with Titanics marketing division have been collecting  passenger data to determine which passengers it should provide premium discounts for an all inclusive first-class pass."
   ]
  },
  {
   "cell_type": "code",
   "execution_count": 33,
   "id": "d38b4407",
   "metadata": {
    "scrolled": true
   },
   "outputs": [
    {
     "name": "stderr",
     "output_type": "stream",
     "text": [
      "C:\\Users\\lakna\\anaconda3\\lib\\site-packages\\ipykernel\\ipkernel.py:287: DeprecationWarning: `should_run_async` will not call `transform_cell` automatically in the future. Please pass the result to `transformed_cell` argument and any exception that happen during thetransform in `preprocessing_exc_tuple` in IPython 7.17 and above.\n",
      "  and should_run_async(code)\n"
     ]
    }
   ],
   "source": [
    "import great_expectations as ge\n",
    "import pandas as pd"
   ]
  },
  {
   "cell_type": "code",
   "execution_count": null,
   "id": "47d99a94",
   "metadata": {},
   "outputs": [],
   "source": []
  },
  {
   "cell_type": "markdown",
   "id": "e336723b",
   "metadata": {},
   "source": [
    "For each voyage, the data science team recieves a batch of data. Let's load the first batch of data using read_csv function available with great expectations"
   ]
  },
  {
   "cell_type": "code",
   "execution_count": 34,
   "id": "1fd3e092",
   "metadata": {},
   "outputs": [],
   "source": [
    "batch1 = ge.read_csv('titanicbatch1.csv')"
   ]
  },
  {
   "cell_type": "code",
   "execution_count": 35,
   "id": "77eff5d0",
   "metadata": {
    "scrolled": true
   },
   "outputs": [
    {
     "data": {
      "text/html": [
       "<div>\n",
       "<style scoped>\n",
       "    .dataframe tbody tr th:only-of-type {\n",
       "        vertical-align: middle;\n",
       "    }\n",
       "\n",
       "    .dataframe tbody tr th {\n",
       "        vertical-align: top;\n",
       "    }\n",
       "\n",
       "    .dataframe thead th {\n",
       "        text-align: right;\n",
       "    }\n",
       "</style>\n",
       "<table border=\"1\" class=\"dataframe\">\n",
       "  <thead>\n",
       "    <tr style=\"text-align: right;\">\n",
       "      <th></th>\n",
       "      <th>Unnamed: 0</th>\n",
       "      <th>PassengerId</th>\n",
       "      <th>Survived</th>\n",
       "      <th>Pclass</th>\n",
       "      <th>Name</th>\n",
       "      <th>Sex</th>\n",
       "      <th>Age</th>\n",
       "      <th>SibSp</th>\n",
       "      <th>Parch</th>\n",
       "      <th>Ticket</th>\n",
       "      <th>Fare</th>\n",
       "      <th>Cabin</th>\n",
       "      <th>Embarked</th>\n",
       "    </tr>\n",
       "  </thead>\n",
       "  <tbody>\n",
       "    <tr>\n",
       "      <th>0</th>\n",
       "      <td>0</td>\n",
       "      <td>1</td>\n",
       "      <td>0</td>\n",
       "      <td>3</td>\n",
       "      <td>Braund, Mr. Owen Harris</td>\n",
       "      <td>male</td>\n",
       "      <td>22.0</td>\n",
       "      <td>1</td>\n",
       "      <td>0</td>\n",
       "      <td>A/5 21171</td>\n",
       "      <td>7.2500</td>\n",
       "      <td>NaN</td>\n",
       "      <td>S</td>\n",
       "    </tr>\n",
       "    <tr>\n",
       "      <th>1</th>\n",
       "      <td>1</td>\n",
       "      <td>2</td>\n",
       "      <td>1</td>\n",
       "      <td>1</td>\n",
       "      <td>Cumings, Mrs. John Bradley (Florence Briggs Th...</td>\n",
       "      <td>female</td>\n",
       "      <td>38.0</td>\n",
       "      <td>1</td>\n",
       "      <td>0</td>\n",
       "      <td>PC 17599</td>\n",
       "      <td>71.2833</td>\n",
       "      <td>C85</td>\n",
       "      <td>C</td>\n",
       "    </tr>\n",
       "    <tr>\n",
       "      <th>2</th>\n",
       "      <td>2</td>\n",
       "      <td>3</td>\n",
       "      <td>1</td>\n",
       "      <td>3</td>\n",
       "      <td>Heikkinen, Miss. Laina</td>\n",
       "      <td>female</td>\n",
       "      <td>26.0</td>\n",
       "      <td>0</td>\n",
       "      <td>0</td>\n",
       "      <td>STON/O2. 3101282</td>\n",
       "      <td>7.9250</td>\n",
       "      <td>NaN</td>\n",
       "      <td>S</td>\n",
       "    </tr>\n",
       "    <tr>\n",
       "      <th>3</th>\n",
       "      <td>3</td>\n",
       "      <td>4</td>\n",
       "      <td>1</td>\n",
       "      <td>1</td>\n",
       "      <td>Futrelle, Mrs. Jacques Heath (Lily May Peel)</td>\n",
       "      <td>female</td>\n",
       "      <td>35.0</td>\n",
       "      <td>1</td>\n",
       "      <td>0</td>\n",
       "      <td>113803</td>\n",
       "      <td>53.1000</td>\n",
       "      <td>C123</td>\n",
       "      <td>S</td>\n",
       "    </tr>\n",
       "    <tr>\n",
       "      <th>4</th>\n",
       "      <td>4</td>\n",
       "      <td>5</td>\n",
       "      <td>0</td>\n",
       "      <td>3</td>\n",
       "      <td>Allen, Mr. William Henry</td>\n",
       "      <td>male</td>\n",
       "      <td>35.0</td>\n",
       "      <td>0</td>\n",
       "      <td>0</td>\n",
       "      <td>373450</td>\n",
       "      <td>8.0500</td>\n",
       "      <td>NaN</td>\n",
       "      <td>S</td>\n",
       "    </tr>\n",
       "  </tbody>\n",
       "</table>\n",
       "</div>"
      ],
      "text/plain": [
       "   Unnamed: 0  PassengerId  Survived  Pclass  \\\n",
       "0           0            1         0       3   \n",
       "1           1            2         1       1   \n",
       "2           2            3         1       3   \n",
       "3           3            4         1       1   \n",
       "4           4            5         0       3   \n",
       "\n",
       "                                                Name     Sex   Age  SibSp  \\\n",
       "0                            Braund, Mr. Owen Harris    male  22.0      1   \n",
       "1  Cumings, Mrs. John Bradley (Florence Briggs Th...  female  38.0      1   \n",
       "2                             Heikkinen, Miss. Laina  female  26.0      0   \n",
       "3       Futrelle, Mrs. Jacques Heath (Lily May Peel)  female  35.0      1   \n",
       "4                           Allen, Mr. William Henry    male  35.0      0   \n",
       "\n",
       "   Parch            Ticket     Fare Cabin Embarked  \n",
       "0      0         A/5 21171   7.2500   NaN        S  \n",
       "1      0          PC 17599  71.2833   C85        C  \n",
       "2      0  STON/O2. 3101282   7.9250   NaN        S  \n",
       "3      0            113803  53.1000  C123        S  \n",
       "4      0            373450   8.0500   NaN        S  "
      ]
     },
     "execution_count": 35,
     "metadata": {},
     "output_type": "execute_result"
    }
   ],
   "source": [
    "batch1.head()"
   ]
  },
  {
   "cell_type": "markdown",
   "id": "7294408b",
   "metadata": {},
   "source": [
    "Now the data engineers know that passengers get on board the ship from one of 3 ports. Cherbourg in France, Queenstown in Ireland, and Southhampoton in the UK. If you look at the `Embarked` column, these ports are categorized as `Cherbourg-C`,`Queenstown-Q`,`SouthHampton-S`  "
   ]
  },
  {
   "cell_type": "markdown",
   "id": "d7d500ce",
   "metadata": {},
   "source": [
    "We can use the great expecations package to create an expectation to ensure that the Embarked column contains only these three  values"
   ]
  },
  {
   "cell_type": "code",
   "execution_count": 36,
   "id": "a6a68e84",
   "metadata": {},
   "outputs": [
    {
     "name": "stderr",
     "output_type": "stream",
     "text": [
      "C:\\Users\\lakna\\anaconda3\\lib\\site-packages\\ipykernel\\ipkernel.py:287: DeprecationWarning: `should_run_async` will not call `transform_cell` automatically in the future. Please pass the result to `transformed_cell` argument and any exception that happen during thetransform in `preprocessing_exc_tuple` in IPython 7.17 and above.\n",
      "  and should_run_async(code)\n"
     ]
    },
    {
     "data": {
      "text/plain": [
       "{\n",
       "  \"exception_info\": {\n",
       "    \"raised_exception\": false,\n",
       "    \"exception_traceback\": null,\n",
       "    \"exception_message\": null\n",
       "  },\n",
       "  \"result\": {\n",
       "    \"element_count\": 400,\n",
       "    \"missing_count\": 1,\n",
       "    \"missing_percent\": 0.25,\n",
       "    \"unexpected_count\": 0,\n",
       "    \"unexpected_percent\": 0.0,\n",
       "    \"unexpected_percent_total\": 0.0,\n",
       "    \"unexpected_percent_nonmissing\": 0.0,\n",
       "    \"partial_unexpected_list\": []\n",
       "  },\n",
       "  \"success\": true,\n",
       "  \"meta\": {}\n",
       "}"
      ]
     },
     "execution_count": 36,
     "metadata": {},
     "output_type": "execute_result"
    }
   ],
   "source": [
    "batch1.expect_column_values_to_be_in_set('Embarked',['S','C','Q'])"
   ]
  },
  {
   "cell_type": "markdown",
   "id": "560a1421",
   "metadata": {},
   "source": [
    "When you run an expectation on a dataset it returns the result that you see above. The most important item to look at is the \"success\" parameter. Here it is evident that `\"success\": true` meaning that the `Embarked` column has met our expectation"
   ]
  },
  {
   "cell_type": "markdown",
   "id": "0c9e4990",
   "metadata": {},
   "source": [
    "Anytime you create an expectation,that expectation is stored as a configuration, and we can look at the config object it creates using the `get_expectations_config()` command"
   ]
  },
  {
   "cell_type": "code",
   "execution_count": 37,
   "id": "892c311d",
   "metadata": {},
   "outputs": [
    {
     "name": "stderr",
     "output_type": "stream",
     "text": [
      "C:\\Users\\lakna\\anaconda3\\lib\\site-packages\\ipykernel\\ipkernel.py:287: DeprecationWarning: `should_run_async` will not call `transform_cell` automatically in the future. Please pass the result to `transformed_cell` argument and any exception that happen during thetransform in `preprocessing_exc_tuple` in IPython 7.17 and above.\n",
      "  and should_run_async(code)\n",
      "C:\\Users\\lakna\\AppData\\Roaming\\Python\\Python37\\site-packages\\great_expectations\\data_asset\\data_asset.py:540: DeprecationWarning: get_expectations_config is deprecated, and will be removed in a future release. Please use get_expectation_suite instead.\n",
      "  DeprecationWarning,\n"
     ]
    },
    {
     "data": {
      "text/plain": [
       "{\n",
       "  \"expectations\": [\n",
       "    {\n",
       "      \"meta\": {},\n",
       "      \"kwargs\": {\n",
       "        \"column\": \"Embarked\",\n",
       "        \"value_set\": [\n",
       "          \"S\",\n",
       "          \"C\",\n",
       "          \"Q\"\n",
       "        ]\n",
       "      },\n",
       "      \"expectation_type\": \"expect_column_values_to_be_in_set\"\n",
       "    }\n",
       "  ],\n",
       "  \"expectation_suite_name\": \"default\",\n",
       "  \"meta\": {\n",
       "    \"great_expectations_version\": \"0.14.10\"\n",
       "  },\n",
       "  \"data_asset_type\": \"Dataset\",\n",
       "  \"ge_cloud_id\": null\n",
       "}"
      ]
     },
     "execution_count": 37,
     "metadata": {},
     "output_type": "execute_result"
    }
   ],
   "source": [
    "batch1.get_expectations_config()"
   ]
  },
  {
   "cell_type": "markdown",
   "id": "3ca603f9",
   "metadata": {},
   "source": [
    "Since we hope to use this config to validate the data we recieve in the future, Let's save the config we created as `titanic_config` in our workspace using the following command"
   ]
  },
  {
   "cell_type": "code",
   "execution_count": 38,
   "id": "be5ad07a",
   "metadata": {},
   "outputs": [],
   "source": [
    "titanic_config = batch1.get_expectations_config()"
   ]
  },
  {
   "cell_type": "markdown",
   "id": "8788478f",
   "metadata": {},
   "source": [
    "Once the Data Engineering Team recieves another batch of passenger data from the most recent voyage, they can use the config that they had created past to validate the new batch of data. First you have to load the new batch of data, and then run the validate command and pass the titanic config you created earlier as a parameter"
   ]
  },
  {
   "cell_type": "code",
   "execution_count": 46,
   "id": "876fb6e2",
   "metadata": {},
   "outputs": [],
   "source": [
    "batch2 = ge.read_csv('titanicbatch2.csv')"
   ]
  },
  {
   "cell_type": "code",
   "execution_count": 49,
   "id": "13daa09b",
   "metadata": {},
   "outputs": [
    {
     "name": "stderr",
     "output_type": "stream",
     "text": [
      "C:\\Users\\lakna\\anaconda3\\lib\\site-packages\\ipykernel\\ipkernel.py:287: DeprecationWarning: `should_run_async` will not call `transform_cell` automatically in the future. Please pass the result to `transformed_cell` argument and any exception that happen during thetransform in `preprocessing_exc_tuple` in IPython 7.17 and above.\n",
      "  and should_run_async(code)\n"
     ]
    },
    {
     "data": {
      "text/plain": [
       "{\n",
       "  \"success\": false,\n",
       "  \"evaluation_parameters\": {},\n",
       "  \"results\": [\n",
       "    {\n",
       "      \"exception_info\": {\n",
       "        \"raised_exception\": false,\n",
       "        \"exception_message\": null,\n",
       "        \"exception_traceback\": null\n",
       "      },\n",
       "      \"result\": {\n",
       "        \"element_count\": 491,\n",
       "        \"missing_count\": 1,\n",
       "        \"missing_percent\": 0.20366598778004072,\n",
       "        \"unexpected_count\": 1,\n",
       "        \"unexpected_percent\": 0.20408163265306123,\n",
       "        \"unexpected_percent_total\": 0.20366598778004072,\n",
       "        \"unexpected_percent_nonmissing\": 0.20408163265306123,\n",
       "        \"partial_unexpected_list\": [\n",
       "          \"Z\"\n",
       "        ]\n",
       "      },\n",
       "      \"success\": false,\n",
       "      \"expectation_config\": {\n",
       "        \"meta\": {},\n",
       "        \"kwargs\": {\n",
       "          \"column\": \"Embarked\",\n",
       "          \"value_set\": [\n",
       "            \"S\",\n",
       "            \"C\",\n",
       "            \"Q\"\n",
       "          ]\n",
       "        },\n",
       "        \"expectation_type\": \"expect_column_values_to_be_in_set\"\n",
       "      },\n",
       "      \"meta\": {}\n",
       "    }\n",
       "  ],\n",
       "  \"meta\": {\n",
       "    \"great_expectations_version\": \"0.14.10\",\n",
       "    \"expectation_suite_name\": \"default\",\n",
       "    \"run_id\": {\n",
       "      \"run_time\": \"2022-03-30T23:32:49.874202+00:00\",\n",
       "      \"run_name\": null\n",
       "    },\n",
       "    \"batch_kwargs\": {\n",
       "      \"ge_batch_id\": \"4649dc0c-b081-11ec-bf5c-9c305b1c7540\"\n",
       "    },\n",
       "    \"batch_markers\": {},\n",
       "    \"batch_parameters\": {},\n",
       "    \"validation_time\": \"20220330T233249.874202Z\",\n",
       "    \"expectation_suite_meta\": {\n",
       "      \"great_expectations_version\": \"0.14.10\"\n",
       "    }\n",
       "  },\n",
       "  \"statistics\": {\n",
       "    \"evaluated_expectations\": 1,\n",
       "    \"successful_expectations\": 0,\n",
       "    \"unsuccessful_expectations\": 1,\n",
       "    \"success_percent\": 0.0\n",
       "  }\n",
       "}"
      ]
     },
     "execution_count": 49,
     "metadata": {},
     "output_type": "execute_result"
    }
   ],
   "source": [
    "batch2.validate(expectation_suite= titanic_config,only_return_failures=True)"
   ]
  },
  {
   "cell_type": "code",
   "execution_count": null,
   "id": "1cf323dc",
   "metadata": {},
   "outputs": [],
   "source": []
  },
  {
   "cell_type": "code",
   "execution_count": 39,
   "id": "f9e9dc04",
   "metadata": {},
   "outputs": [],
   "source": [
    "df1 = ge.read_csv(\"titanicbatch1.csv\")\n",
    "df1 = df1.loc[:,df1.columns !='Survived']"
   ]
  },
  {
   "cell_type": "code",
   "execution_count": 40,
   "id": "af857c34",
   "metadata": {
    "scrolled": true
   },
   "outputs": [],
   "source": [
    "df_batch1= df[0:400]\n",
    "df_batch2= df[400:]"
   ]
  },
  {
   "cell_type": "code",
   "execution_count": 44,
   "id": "a1bc81f4",
   "metadata": {},
   "outputs": [
    {
     "name": "stderr",
     "output_type": "stream",
     "text": [
      "C:\\Users\\lakna\\anaconda3\\lib\\site-packages\\pandas\\core\\indexing.py:1765: SettingWithCopyWarning: \n",
      "A value is trying to be set on a copy of a slice from a DataFrame.\n",
      "Try using .loc[row_indexer,col_indexer] = value instead\n",
      "\n",
      "See the caveats in the documentation: https://pandas.pydata.org/pandas-docs/stable/user_guide/indexing.html#returning-a-view-versus-a-copy\n",
      "  isetter(loc, value)\n"
     ]
    }
   ],
   "source": [
    "df_batch2.loc[400,'Embarked']='Z'"
   ]
  },
  {
   "cell_type": "code",
   "execution_count": 45,
   "id": "37ca75ad",
   "metadata": {},
   "outputs": [],
   "source": [
    "df_batch1.to_csv('titanicbatch1.csv')\n",
    "df_batch2.to_csv('titanicbatch2.csv')"
   ]
  },
  {
   "cell_type": "code",
   "execution_count": null,
   "id": "fa1bd9cf",
   "metadata": {},
   "outputs": [],
   "source": []
  }
 ],
 "metadata": {
  "kernelspec": {
   "display_name": "Python 3 (ipykernel)",
   "language": "python",
   "name": "python3"
  },
  "language_info": {
   "codemirror_mode": {
    "name": "ipython",
    "version": 3
   },
   "file_extension": ".py",
   "mimetype": "text/x-python",
   "name": "python",
   "nbconvert_exporter": "python",
   "pygments_lexer": "ipython3",
   "version": "3.7.6"
  }
 },
 "nbformat": 4,
 "nbformat_minor": 5
}
