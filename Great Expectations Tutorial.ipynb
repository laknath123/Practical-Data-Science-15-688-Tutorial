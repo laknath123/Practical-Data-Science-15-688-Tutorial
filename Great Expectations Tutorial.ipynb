{
 "cells": [
  {
   "cell_type": "markdown",
   "id": "875174c8",
   "metadata": {},
   "source": [
    "## What You will Learn\n",
    "\n",
    "#### The goal of this tutorial is to introduce [Great Expectations](https://greatexpectations.io/) a python package to help ensure data quality in data science and analytics workflows. You will learn in this tutorial\n",
    "\n",
    "1.\tWhy data quality is imperative for data science.\n",
    "2.\tWhat expectations are, and how you can test expectations \n",
    "3.\tHow to set up a great expectations suite in a production environment\n"
   ]
  },
  {
   "cell_type": "markdown",
   "id": "bd48f211",
   "metadata": {},
   "source": [
    "## 1.Importance of Data Quality\n",
    "\n",
    "According to a [recent survey](https://www.forbes.com/sites/gilpress/2016/03/23/data-preparation-most-time-consuming-least-enjoyable-data-science-task-survey-says/?sh=77d4a0526f63), data scientists spend around 60 percent of their time cleaning and massaging data. And this aspect of the work is often considered not very desirable.  \n",
    "\n",
    "Data cleaning is not an aspect focused on much in coursework. In most assignments and projects, we receive already cleaned data in CSV files or access to a database and continue to build models and conduct analysis without paying too much attention to data quality issues.\n",
    "\n",
    "The data we encounter in most real-world data science projects have issues with **accuracy, completeness, uniqueness, consistency, and timeliness**. Furthermore, we may have to work with dynamic data that may get updated daily, weekly, or monthly. Consider building a machine learning model and an analytics dashboard with [311 Data from the NYC open data portal](https://data.cityofnewyork.us/Social-Services/311-Service-Requests-from-2010-to-Present/erm2-nwe9). This data gets updated daily, and we have to ensure that the columns in each new update are consistent with what we already have.\n",
    "\n",
    "Most importantly, data quality can adversely impact model quality. For instance, when you are pre-processing a categorical variable to be entered into a model, an inconsistency between ***‘NYPD’ and ‘NyPD’*** would lead these two values to be considered as two distinct categories. But beyond this simple example, data quality issues can adversely impact model performance, and it may be often difficult to detect these issues during the modeling stage. \n"
   ]
  },
  {
   "cell_type": "markdown",
   "id": "65467d51",
   "metadata": {},
   "source": [
    "## Set Up\n",
    "in order to complete this section you need to install the **great_expectations** and **pandas** packages. Once you have succesfully installed them either using pip or anaconda, you can can import these packages using the following command"
   ]
  },
  {
   "cell_type": "code",
   "execution_count": 1,
   "id": "82b0633c",
   "metadata": {},
   "outputs": [],
   "source": [
    "import great_expectations as ge\n",
    "import pandas as pd"
   ]
  },
  {
   "cell_type": "markdown",
   "id": "46c9063b",
   "metadata": {},
   "source": [
    "##  2.1 Quick Intro to Setting Expectations\n",
    "\n",
    "You will be working with a slightly modified version of the Titanic Dataset for this section.\n",
    "\n",
    "Let's imagine that the Titanic was able to divert its course and dodge the iceberg that stuck it in 1912 and completed its maiden voyage. Let's assume that the RMS titanic took many voyages between Europe and the UK, and a team of data engineers and data scientists with Titanics marketing division are collecting passenger data to determine which passengers it should provide premium discounts for an all-inclusive first-class pass. And during each voyage, they receive a batch of data. "
   ]
  },
  {
   "cell_type": "markdown",
   "id": "bd18a517",
   "metadata": {},
   "source": [
    "Let's Load the titanic dataset from the github link with the `read_csv` function in great expectations"
   ]
  },
  {
   "cell_type": "code",
   "execution_count": 7,
   "id": "20657d6b",
   "metadata": {},
   "outputs": [],
   "source": [
    "titanic_df = ge.read_csv(\"https://raw.githubusercontent.com/laknath123/Practical-Data-Science-15-688-Tutorial/main/titanic.csv\")"
   ]
  },
  {
   "cell_type": "markdown",
   "id": "506be949",
   "metadata": {},
   "source": [
    "Lets Explore the first few lines of this dataset"
   ]
  },
  {
   "cell_type": "code",
   "execution_count": 8,
   "id": "f5aec2c2",
   "metadata": {
    "scrolled": false
   },
   "outputs": [
    {
     "data": {
      "text/html": [
       "<div>\n",
       "<style scoped>\n",
       "    .dataframe tbody tr th:only-of-type {\n",
       "        vertical-align: middle;\n",
       "    }\n",
       "\n",
       "    .dataframe tbody tr th {\n",
       "        vertical-align: top;\n",
       "    }\n",
       "\n",
       "    .dataframe thead th {\n",
       "        text-align: right;\n",
       "    }\n",
       "</style>\n",
       "<table border=\"1\" class=\"dataframe\">\n",
       "  <thead>\n",
       "    <tr style=\"text-align: right;\">\n",
       "      <th></th>\n",
       "      <th>PassengerId</th>\n",
       "      <th>Survived</th>\n",
       "      <th>Pclass</th>\n",
       "      <th>Name</th>\n",
       "      <th>Sex</th>\n",
       "      <th>Age</th>\n",
       "      <th>SibSp</th>\n",
       "      <th>Parch</th>\n",
       "      <th>Ticket</th>\n",
       "      <th>Fare</th>\n",
       "      <th>Cabin</th>\n",
       "      <th>Embarked</th>\n",
       "    </tr>\n",
       "  </thead>\n",
       "  <tbody>\n",
       "    <tr>\n",
       "      <th>0</th>\n",
       "      <td>1</td>\n",
       "      <td>0</td>\n",
       "      <td>3</td>\n",
       "      <td>Braund, Mr. Owen Harris</td>\n",
       "      <td>male</td>\n",
       "      <td>22.0</td>\n",
       "      <td>1</td>\n",
       "      <td>0</td>\n",
       "      <td>A/5 21171</td>\n",
       "      <td>7.2500</td>\n",
       "      <td>NaN</td>\n",
       "      <td>S</td>\n",
       "    </tr>\n",
       "    <tr>\n",
       "      <th>1</th>\n",
       "      <td>2</td>\n",
       "      <td>1</td>\n",
       "      <td>1</td>\n",
       "      <td>Cumings, Mrs. John Bradley (Florence Briggs Th...</td>\n",
       "      <td>female</td>\n",
       "      <td>38.0</td>\n",
       "      <td>1</td>\n",
       "      <td>0</td>\n",
       "      <td>PC 17599</td>\n",
       "      <td>71.2833</td>\n",
       "      <td>C85</td>\n",
       "      <td>C</td>\n",
       "    </tr>\n",
       "    <tr>\n",
       "      <th>2</th>\n",
       "      <td>3</td>\n",
       "      <td>1</td>\n",
       "      <td>3</td>\n",
       "      <td>Heikkinen, Miss. Laina</td>\n",
       "      <td>female</td>\n",
       "      <td>26.0</td>\n",
       "      <td>0</td>\n",
       "      <td>0</td>\n",
       "      <td>STON/O2. 3101282</td>\n",
       "      <td>7.9250</td>\n",
       "      <td>NaN</td>\n",
       "      <td>S</td>\n",
       "    </tr>\n",
       "    <tr>\n",
       "      <th>3</th>\n",
       "      <td>4</td>\n",
       "      <td>1</td>\n",
       "      <td>1</td>\n",
       "      <td>Futrelle, Mrs. Jacques Heath (Lily May Peel)</td>\n",
       "      <td>female</td>\n",
       "      <td>35.0</td>\n",
       "      <td>1</td>\n",
       "      <td>0</td>\n",
       "      <td>113803</td>\n",
       "      <td>53.1000</td>\n",
       "      <td>C123</td>\n",
       "      <td>S</td>\n",
       "    </tr>\n",
       "    <tr>\n",
       "      <th>4</th>\n",
       "      <td>5</td>\n",
       "      <td>0</td>\n",
       "      <td>3</td>\n",
       "      <td>Allen, Mr. William Henry</td>\n",
       "      <td>male</td>\n",
       "      <td>35.0</td>\n",
       "      <td>0</td>\n",
       "      <td>0</td>\n",
       "      <td>373450</td>\n",
       "      <td>8.0500</td>\n",
       "      <td>NaN</td>\n",
       "      <td>S</td>\n",
       "    </tr>\n",
       "  </tbody>\n",
       "</table>\n",
       "</div>"
      ],
      "text/plain": [
       "   PassengerId  Survived  Pclass  \\\n",
       "0            1         0       3   \n",
       "1            2         1       1   \n",
       "2            3         1       3   \n",
       "3            4         1       1   \n",
       "4            5         0       3   \n",
       "\n",
       "                                                Name     Sex   Age  SibSp  \\\n",
       "0                            Braund, Mr. Owen Harris    male  22.0      1   \n",
       "1  Cumings, Mrs. John Bradley (Florence Briggs Th...  female  38.0      1   \n",
       "2                             Heikkinen, Miss. Laina  female  26.0      0   \n",
       "3       Futrelle, Mrs. Jacques Heath (Lily May Peel)  female  35.0      1   \n",
       "4                           Allen, Mr. William Henry    male  35.0      0   \n",
       "\n",
       "   Parch            Ticket     Fare Cabin Embarked  \n",
       "0      0         A/5 21171   7.2500   NaN        S  \n",
       "1      0          PC 17599  71.2833   C85        C  \n",
       "2      0  STON/O2. 3101282   7.9250   NaN        S  \n",
       "3      0            113803  53.1000  C123        S  \n",
       "4      0            373450   8.0500   NaN        S  "
      ]
     },
     "execution_count": 8,
     "metadata": {},
     "output_type": "execute_result"
    }
   ],
   "source": [
    "titanic_df.head()"
   ]
  },
  {
   "cell_type": "markdown",
   "id": "af218fd2",
   "metadata": {},
   "source": [
    "In This tutorial, we hope to make some modifications to the original dataset.\n",
    "-  First we we will remove the `Survived` Column\n",
    "-  Next we will split this dataset into two batches\n",
    "-  Create A Data Anamoloy by Adding the Value Z to the `Embarked` column"
   ]
  },
  {
   "cell_type": "code",
   "execution_count": 9,
   "id": "ce3d320d",
   "metadata": {},
   "outputs": [
    {
     "name": "stderr",
     "output_type": "stream",
     "text": [
      "C:\\Users\\lakna\\anaconda3\\lib\\site-packages\\pandas\\core\\indexing.py:1765: SettingWithCopyWarning: \n",
      "A value is trying to be set on a copy of a slice from a DataFrame.\n",
      "Try using .loc[row_indexer,col_indexer] = value instead\n",
      "\n",
      "See the caveats in the documentation: https://pandas.pydata.org/pandas-docs/stable/user_guide/indexing.html#returning-a-view-versus-a-copy\n",
      "  isetter(loc, value)\n"
     ]
    }
   ],
   "source": [
    "titanic_df = titanic_df.loc[:,titanic_df.columns !='Survived']\n",
    "df_batch1= titanic_df[0:400]\n",
    "df_batch2= titanic_df[400:]\n",
    "df_batch2.loc[400,'Embarked']='Z'"
   ]
  },
  {
   "cell_type": "code",
   "execution_count": 13,
   "id": "c2b0e6b7",
   "metadata": {
    "scrolled": true
   },
   "outputs": [
    {
     "data": {
      "text/plain": [
       "array(['S', 'C', 'Q', nan], dtype=object)"
      ]
     },
     "execution_count": 13,
     "metadata": {},
     "output_type": "execute_result"
    }
   ],
   "source": [
    "df_batch1.Embarked.unique()"
   ]
  },
  {
   "cell_type": "markdown",
   "id": "cfcb8bbf",
   "metadata": {},
   "source": [
    "The data team knows that passengers get on board the ship from one of 3 ports. Cherbourg in France, Queenstown in Ireland, and Southhampton in the UK. If you look at the Embarked column, these ports are categorized as Cherbourg- `C`, Queenstown- `Q`, Southhampton-`S`"
   ]
  },
  {
   "cell_type": "markdown",
   "id": "14c86a46",
   "metadata": {},
   "source": [
    "We can use the great expectations package to create an expectation that the Embarked column should only contain these three values"
   ]
  },
  {
   "cell_type": "markdown",
   "id": "5b4c7772",
   "metadata": {},
   "source": [
    "## 2.2 Setting Categorical Expectations"
   ]
  },
  {
   "cell_type": "code",
   "execution_count": 15,
   "id": "98f707f0",
   "metadata": {},
   "outputs": [
    {
     "data": {
      "text/plain": [
       "{\n",
       "  \"result\": {\n",
       "    \"element_count\": 400,\n",
       "    \"missing_count\": 1,\n",
       "    \"missing_percent\": 0.25,\n",
       "    \"unexpected_count\": 0,\n",
       "    \"unexpected_percent\": 0.0,\n",
       "    \"unexpected_percent_total\": 0.0,\n",
       "    \"unexpected_percent_nonmissing\": 0.0,\n",
       "    \"partial_unexpected_list\": []\n",
       "  },\n",
       "  \"success\": true,\n",
       "  \"meta\": {},\n",
       "  \"exception_info\": {\n",
       "    \"raised_exception\": false,\n",
       "    \"exception_traceback\": null,\n",
       "    \"exception_message\": null\n",
       "  }\n",
       "}"
      ]
     },
     "execution_count": 15,
     "metadata": {},
     "output_type": "execute_result"
    }
   ],
   "source": [
    "df_batch1.expect_column_values_to_be_in_set('Embarked',['S','C','Q'])"
   ]
  },
  {
   "cell_type": "markdown",
   "id": "07d3d8b2",
   "metadata": {},
   "source": [
    "When you run an expectation on a dataset it returns the result that you see above. The most important item to look at is the **success** parameter. Here it is evident that `\"success\": true` meaning that the `Embarked` column in this batch of data has met our expectation"
   ]
  },
  {
   "cell_type": "markdown",
   "id": "511a7bf9",
   "metadata": {},
   "source": [
    "Anytime you create an expectation,that expectation is stored as a configuration, and we can look at the config object it creates using the `get_expectation_suite()` command"
   ]
  },
  {
   "cell_type": "code",
   "execution_count": 16,
   "id": "7f800c65",
   "metadata": {},
   "outputs": [
    {
     "data": {
      "text/plain": [
       "{\n",
       "  \"ge_cloud_id\": null,\n",
       "  \"expectations\": [\n",
       "    {\n",
       "      \"kwargs\": {\n",
       "        \"column\": \"Embarked\",\n",
       "        \"value_set\": [\n",
       "          \"S\",\n",
       "          \"C\",\n",
       "          \"Q\"\n",
       "        ]\n",
       "      },\n",
       "      \"meta\": {},\n",
       "      \"expectation_type\": \"expect_column_values_to_be_in_set\"\n",
       "    }\n",
       "  ],\n",
       "  \"meta\": {\n",
       "    \"great_expectations_version\": \"0.14.10\"\n",
       "  },\n",
       "  \"expectation_suite_name\": \"default\",\n",
       "  \"data_asset_type\": \"Dataset\"\n",
       "}"
      ]
     },
     "execution_count": 16,
     "metadata": {},
     "output_type": "execute_result"
    }
   ],
   "source": [
    "df_batch1.get_expectation_suite()"
   ]
  },
  {
   "cell_type": "markdown",
   "id": "7e05f4e1",
   "metadata": {},
   "source": [
    "Since we hope to use this config to validate the data we recieve in the future, Let's save the previous expectation we created as `titanic_config` in our workspace using the following command"
   ]
  },
  {
   "cell_type": "code",
   "execution_count": 17,
   "id": "da174d3e",
   "metadata": {},
   "outputs": [],
   "source": [
    "titanic_config = df_batch1.get_expectation_suite()"
   ]
  },
  {
   "cell_type": "markdown",
   "id": "cfbdc2af",
   "metadata": {},
   "source": [
    "Once the Data Team receives another batch of passenger data from a voyage, they can use the config they had created to validate the new data.\n",
    "You have to load the new batch of data and then run the validate command and pass the titanic config you created earlier as a parameter."
   ]
  },
  {
   "cell_type": "markdown",
   "id": "b3722da6",
   "metadata": {},
   "source": [
    "Load the second batch of data"
   ]
  },
  {
   "cell_type": "code",
   "execution_count": 18,
   "id": "6d4b6a10",
   "metadata": {},
   "outputs": [],
   "source": [
    "batch2 = df_batch2"
   ]
  },
  {
   "cell_type": "markdown",
   "id": "3757848a",
   "metadata": {},
   "source": [
    "you can now validate this second batch of data, and also pass in a parameter called `only_return_failures=True` to specifically show the validation rules that have failed"
   ]
  },
  {
   "cell_type": "code",
   "execution_count": 19,
   "id": "57a92fd3",
   "metadata": {
    "scrolled": true
   },
   "outputs": [
    {
     "data": {
      "text/plain": [
       "{\n",
       "  \"statistics\": {\n",
       "    \"evaluated_expectations\": 1,\n",
       "    \"successful_expectations\": 0,\n",
       "    \"unsuccessful_expectations\": 1,\n",
       "    \"success_percent\": 0.0\n",
       "  },\n",
       "  \"success\": false,\n",
       "  \"evaluation_parameters\": {},\n",
       "  \"meta\": {\n",
       "    \"great_expectations_version\": \"0.14.10\",\n",
       "    \"expectation_suite_name\": \"default\",\n",
       "    \"run_id\": {\n",
       "      \"run_time\": \"2022-04-05T00:05:07.595107+00:00\",\n",
       "      \"run_name\": null\n",
       "    },\n",
       "    \"batch_kwargs\": {\n",
       "      \"ge_batch_id\": \"737d0114-b473-11ec-8fc7-9e305b1c753f\"\n",
       "    },\n",
       "    \"batch_markers\": {},\n",
       "    \"batch_parameters\": {},\n",
       "    \"validation_time\": \"20220405T000507.594107Z\",\n",
       "    \"expectation_suite_meta\": {\n",
       "      \"great_expectations_version\": \"0.14.10\"\n",
       "    }\n",
       "  },\n",
       "  \"results\": [\n",
       "    {\n",
       "      \"result\": {\n",
       "        \"element_count\": 491,\n",
       "        \"missing_count\": 1,\n",
       "        \"missing_percent\": 0.20366598778004072,\n",
       "        \"unexpected_count\": 1,\n",
       "        \"unexpected_percent\": 0.20408163265306123,\n",
       "        \"unexpected_percent_total\": 0.20366598778004072,\n",
       "        \"unexpected_percent_nonmissing\": 0.20408163265306123,\n",
       "        \"partial_unexpected_list\": [\n",
       "          \"Z\"\n",
       "        ]\n",
       "      },\n",
       "      \"success\": false,\n",
       "      \"meta\": {},\n",
       "      \"exception_info\": {\n",
       "        \"raised_exception\": false,\n",
       "        \"exception_message\": null,\n",
       "        \"exception_traceback\": null\n",
       "      },\n",
       "      \"expectation_config\": {\n",
       "        \"kwargs\": {\n",
       "          \"column\": \"Embarked\",\n",
       "          \"value_set\": [\n",
       "            \"S\",\n",
       "            \"C\",\n",
       "            \"Q\"\n",
       "          ]\n",
       "        },\n",
       "        \"meta\": {},\n",
       "        \"expectation_type\": \"expect_column_values_to_be_in_set\"\n",
       "      }\n",
       "    }\n",
       "  ]\n",
       "}"
      ]
     },
     "execution_count": 19,
     "metadata": {},
     "output_type": "execute_result"
    }
   ],
   "source": [
    "batch2.validate(expectation_suite= titanic_config,only_return_failures=True)"
   ]
  },
  {
   "cell_type": "markdown",
   "id": "9348785f",
   "metadata": {},
   "source": [
    "If we look at the results key in the above output, It is evident now that we have failed our expectation since `\"success\": false`. \n",
    "It is also clear from this output that this expectation failed, because there was an unexpected value `Z` in the `Embarked` column"
   ]
  },
  {
   "cell_type": "markdown",
   "id": "577dd761",
   "metadata": {},
   "source": [
    "## 2.3 Setting Statistical Expectations "
   ]
  },
  {
   "cell_type": "markdown",
   "id": "6cca5928",
   "metadata": {},
   "source": [
    "The great expectation package also provides a host of ways to build expectations related to statistics from our dataset. "
   ]
  },
  {
   "cell_type": "markdown",
   "id": "2bd86e56",
   "metadata": {},
   "source": [
    "Let's look at the average fare that that we charged passengers during the first voyage"
   ]
  },
  {
   "cell_type": "code",
   "execution_count": 20,
   "id": "56f87819",
   "metadata": {},
   "outputs": [
    {
     "data": {
      "text/plain": [
       "33.24182199999998"
      ]
     },
     "execution_count": 20,
     "metadata": {},
     "output_type": "execute_result"
    }
   ],
   "source": [
    "df_batch1['Fare'].mean()"
   ]
  },
  {
   "cell_type": "markdown",
   "id": "56ca00ad",
   "metadata": {},
   "source": [
    "Certain industries and organizations have [Average Cost Pricing Rules](https://www.investopedia.com/terms/a/average_cost_pricing_rule.asp) or internal policies that require them to set prices within a certain range. Let's assume that the Titanic's pricing team has determined that they want the Average Fare to between to between \\\\$25.00 and \\\\$35.50."
   ]
  },
  {
   "cell_type": "markdown",
   "id": "72ac7176",
   "metadata": {},
   "source": [
    "We can set an expectation to test this in our dataset using the `expect_column_mean_to_be_between` method and run this expectation on our second batch of data"
   ]
  },
  {
   "cell_type": "code",
   "execution_count": 21,
   "id": "2c3c5d06",
   "metadata": {},
   "outputs": [
    {
     "data": {
      "text/plain": [
       "{\n",
       "  \"result\": {\n",
       "    \"observed_value\": 31.35890122199591,\n",
       "    \"element_count\": 491,\n",
       "    \"missing_count\": null,\n",
       "    \"missing_percent\": null\n",
       "  },\n",
       "  \"success\": true,\n",
       "  \"meta\": {},\n",
       "  \"exception_info\": {\n",
       "    \"raised_exception\": false,\n",
       "    \"exception_traceback\": null,\n",
       "    \"exception_message\": null\n",
       "  }\n",
       "}"
      ]
     },
     "execution_count": 21,
     "metadata": {},
     "output_type": "execute_result"
    }
   ],
   "source": [
    "df_batch2.expect_column_mean_to_be_between('Fare',25.00,35.00)"
   ]
  },
  {
   "cell_type": "markdown",
   "id": "1bd6b4e2",
   "metadata": {},
   "source": [
    "When we run this expectation on our second batch of data, it is evident that the average fare falls within the expected range"
   ]
  },
  {
   "cell_type": "markdown",
   "id": "18b902c5",
   "metadata": {},
   "source": [
    "## 2.4 Explore The World of Expectations"
   ]
  },
  {
   "cell_type": "markdown",
   "id": "ee4b6618",
   "metadata": {},
   "source": [
    "We just scratched the surface of what great expectations have to offer in the previous section. \n",
    "The great expectations library has a host of tests to check issues with your data. These test include ways to evaluate statistical expectations, expectations related to regular expressions, and ones to deal with geospatial such as setting latitude and longitude values to be within a certain range.\n",
    "\n",
    "You can check out the entire list of expectations available using the this [link](https://greatexpectations.io/expectations)\n",
    "\n",
    "Since Great Expectations is an open-source package, the community can contribute new expectations, and according to the website the goal of this package is create a **SHARED, OPEN STANDARD OF DATA QUALITY**"
   ]
  },
  {
   "cell_type": "markdown",
   "id": "88ca4bbd",
   "metadata": {},
   "source": [
    "### 3.0 Setting up a Great Expectation suite in a production environment"
   ]
  },
  {
   "cell_type": "markdown",
   "id": "46e93634",
   "metadata": {},
   "source": [
    "The data science workflow in a typical organization involves obtaining data from many sources. For instance, the data may come from enterprise resource planning systems, customer relationship management systems, or from sensors.\n",
    "\n",
    "In an analytics workflow that spans multiple teams, data engineering teams create pipelines to move data and may create databases and data warehouses to store data. These pipelines would then be used by data analysts/ business intelligence developers to create dashboards, and data scientists to build and deploy machine learning models.\n",
    " \n",
    "Great Expectations seems to be a popular technology  currently being used by data engineers and data science teams to run data quality tests before  ingesting data into databases and models\n",
    "\n",
    "- [How Great Expectations is used by the Global Analytics Team at Heineken](https://greatexpectations.io/case-studies/heineken-case-study/)\n",
    "\n",
    " \n",
    "In this section, I guide you through how great_expectations may be deployed in a typical data science workflow where you have to deal with dynamic data inflows as opposed to dealing with a CSV file at a time.\n",
    " \n",
    "Again, a real-world workflow may be a lot more involved than what I present here, but I hope that this gives you a general idea\n",
    " "
   ]
  },
  {
   "cell_type": "markdown",
   "id": "b7fc62d1",
   "metadata": {},
   "source": [
    "## Set up\n",
    "1.\tDownload the zipfile or obtain it from github, and save it somewhere in your machine.\n",
    "2.\tOpen the anaconda prompt or terminal and use `cd` to go to the directory where the file is saved\n",
    "3.\tonce you have cd’d into that folder. Create a virtual environment with the following command `python -m venv venv`\n",
    "4.\tActivate this virtual environment by running `venv\\Scripts\\activate.bat`\n",
    "5.\tOnce you have activated the virtual environment run. \n",
    "    \n",
    "    -`pip install great_expectations`  \n",
    "    -`pip install sqlalchemy`\n"
   ]
  },
  {
   "cell_type": "markdown",
   "id": "dfff4a92",
   "metadata": {},
   "source": [
    "## 3.1 Launch and initialize Great Expectations\n",
    " \n",
    "Run the following command\n",
    "\n",
    "`Great_expectations init`\n",
    "\n",
    "The command above initializes Great Expectations in your folder, and if you look at the folder, you should be able to see that you have a new folder named great_expectations, and it has the structure described in the following image"
   ]
  },
  {
   "cell_type": "code",
   "execution_count": null,
   "id": "0e3706fd",
   "metadata": {},
   "outputs": [],
   "source": []
  },
  {
   "cell_type": "code",
   "execution_count": null,
   "id": "6796f86c",
   "metadata": {},
   "outputs": [],
   "source": []
  },
  {
   "cell_type": "code",
   "execution_count": null,
   "id": "6ca76b83",
   "metadata": {},
   "outputs": [],
   "source": []
  },
  {
   "cell_type": "code",
   "execution_count": null,
   "id": "cdf4e342",
   "metadata": {},
   "outputs": [],
   "source": [
    "df1 = ge.read_csv(\"titanicbatch1.csv\")\n",
    "df1 = df1.loc[:,df1.columns !='Survived']"
   ]
  },
  {
   "cell_type": "code",
   "execution_count": null,
   "id": "4b00442d",
   "metadata": {
    "scrolled": true
   },
   "outputs": [],
   "source": [
    "df_batch1= df[0:400]\n",
    "df_batch2= df[400:]"
   ]
  },
  {
   "cell_type": "code",
   "execution_count": null,
   "id": "cbe69e38",
   "metadata": {},
   "outputs": [],
   "source": [
    "df_batch2.loc[400,'Embarked']='Z'"
   ]
  },
  {
   "cell_type": "code",
   "execution_count": null,
   "id": "cb9b71c2",
   "metadata": {},
   "outputs": [],
   "source": [
    "df_batch1.to_csv('titanicbatch1.csv')\n",
    "df_batch2.to_csv('titanicbatch2.csv')"
   ]
  },
  {
   "cell_type": "code",
   "execution_count": null,
   "id": "50b1f125",
   "metadata": {},
   "outputs": [],
   "source": []
  }
 ],
 "metadata": {
  "kernelspec": {
   "display_name": "Python 3 (ipykernel)",
   "language": "python",
   "name": "python3"
  },
  "language_info": {
   "codemirror_mode": {
    "name": "ipython",
    "version": 3
   },
   "file_extension": ".py",
   "mimetype": "text/x-python",
   "name": "python",
   "nbconvert_exporter": "python",
   "pygments_lexer": "ipython3",
   "version": "3.7.6"
  }
 },
 "nbformat": 4,
 "nbformat_minor": 5
}
